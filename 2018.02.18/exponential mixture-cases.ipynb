{
 "cells": [
  {
   "cell_type": "code",
   "execution_count": 1,
   "metadata": {
    "collapsed": true
   },
   "outputs": [],
   "source": [
    "import numpy as np\n",
    "import scipy as sp\n",
    "import scipy.stats\n",
    "import pandas as pd\n",
    "import timeit\n",
    "from projectors import *\n",
    "from scipy.stats import norm, multivariate_normal\n",
    "import read_matpower\n",
    "import os\n",
    "\n",
    "%matplotlib inline\n",
    "import matplotlib.pyplot as plt\n",
    "import seaborn\n",
    "import pypower.api as P"
   ]
  },
  {
   "cell_type": "code",
   "execution_count": 2,
   "metadata": {
    "collapsed": true
   },
   "outputs": [],
   "source": [
    "### Pegase isn't valid"
   ]
  },
  {
   "cell_type": "markdown",
   "metadata": {},
   "source": [
    "## Winter Peak 2383"
   ]
  },
  {
   "cell_type": "markdown",
   "metadata": {},
   "source": [
    "### Reading the case"
   ]
  },
  {
   "cell_type": "code",
   "execution_count": 3,
   "metadata": {
    "collapsed": true
   },
   "outputs": [],
   "source": [
    "filename = os.path.join(os.path.abspath(os.curdir), 'matpower6.0/case2383wp.m')\n",
    "baseMVA, bus_data, generator_data, branch_data, cost_data = read_matpower.preprocess(filename)\n",
    "bus_df, gen_df, branch_df = read_matpower.DF_converter(bus_data, generator_data, branch_data)"
   ]
  },
  {
   "cell_type": "code",
   "execution_count": 4,
   "metadata": {
    "collapsed": true
   },
   "outputs": [],
   "source": [
    "theta_b = np.pi / 2.0\n",
    "bus_dict = read_matpower.bus_dict_constructor(bus_df)\n",
    "G, K, mu, sigma = read_matpower.constraints_constructor(baseMVA, bus_df, gen_df, branch_df, theta_bound=theta_b)"
   ]
  },
  {
   "cell_type": "code",
   "execution_count": 5,
   "metadata": {
    "collapsed": true
   },
   "outputs": [],
   "source": [
    "W, tau = read_matpower.adjust_constraints((G,K), (mu, sigma))\n",
    "#tau = -tau\n",
    "#W = -W"
   ]
  },
  {
   "cell_type": "code",
   "execution_count": 6,
   "metadata": {
    "collapsed": true
   },
   "outputs": [],
   "source": [
    "# function for calculating probabilities to get into each half-spaces\n",
    "\n",
    "def calculate_probas(W,tau):\n",
    "    return norm.cdf(-tau)"
   ]
  },
  {
   "cell_type": "code",
   "execution_count": 7,
   "metadata": {
    "collapsed": true
   },
   "outputs": [],
   "source": [
    "probas = calculate_probas(W, tau)"
   ]
  },
  {
   "cell_type": "code",
   "execution_count": 8,
   "metadata": {
    "collapsed": true
   },
   "outputs": [],
   "source": [
    "# elimination of values that are too rare (so that further computations become possible)\n",
    "critical_value = 1e-300\n",
    "valid_idx = np.argwhere(probas >= critical_value)[:,0]\n",
    "probas = probas[valid_idx]\n",
    "W = W[valid_idx]\n",
    "tau = tau[valid_idx]"
   ]
  },
  {
   "cell_type": "code",
   "execution_count": 9,
   "metadata": {
    "collapsed": true
   },
   "outputs": [],
   "source": [
    "DIM_X = W.shape[1]\n",
    "NUM_B = W.shape[0]\n",
    "eps = 0.1 / (NUM_B + 1) # lower bound which prevents alpha values from being equal to zero\n",
    "\n",
    "\n",
    "\n",
    "#W = np.random.randn(NUM_B, DIM_X)\n",
    "#W = np.apply_along_axis(lambda x: x / np.linalg.norm(x), 1, W)\n",
    "#tau = np.fabs(np.random.randn(NUM_B))"
   ]
  },
  {
   "cell_type": "code",
   "execution_count": 10,
   "metadata": {
    "collapsed": true
   },
   "outputs": [],
   "source": [
    "# function which return 1 if x lies in some definite halfspace and 0 otherwise\n",
    "\n",
    "def boundaries(x, W, tau):\n",
    "    return (W.dot(x) >= tau).astype(int)"
   ]
  },
  {
   "cell_type": "code",
   "execution_count": 11,
   "metadata": {
    "collapsed": true
   },
   "outputs": [],
   "source": [
    "boundaries_wrap = lambda x: boundaries(x, W, tau)"
   ]
  },
  {
   "cell_type": "code",
   "execution_count": 12,
   "metadata": {
    "collapsed": true
   },
   "outputs": [],
   "source": [
    "# generating samples conditioning on one of halspaces\n",
    "\n",
    "def generate_sample(W, tau, mix_index):\n",
    "    if mix_index == len(W):\n",
    "        return np.random.randn(DIM_X)\n",
    "    w = W[mix_index]\n",
    "    t = tau[mix_index]\n",
    "    z = np.random.randn(DIM_X)\n",
    "    u = np.random.rand()\n",
    "    y = u * norm.cdf(-t)\n",
    "    y = norm.ppf(y)\n",
    "    return -y*w - z + (w.dot(z)) * w"
   ]
  },
  {
   "cell_type": "code",
   "execution_count": 13,
   "metadata": {
    "collapsed": true
   },
   "outputs": [],
   "source": [
    "generate_wrap = lambda i: generate_sample(W, tau, i)"
   ]
  },
  {
   "cell_type": "code",
   "execution_count": 14,
   "metadata": {
    "collapsed": true
   },
   "outputs": [],
   "source": [
    "\n",
    "\n",
    "class Mixture():\n",
    "    '''Class operating with distribution mixtures, \n",
    "    derived from some base distribution function conditioning on different halfspaces'''\n",
    "    def __init__(self, dist_func, boundaries, probas, gen_funcs, block = True):\n",
    "        self.base_dist = dist_func # base distribution function\n",
    "        self.boundaries = boundaries \n",
    "        self.probas = probas\n",
    "        self.gen_funcs = gen_funcs \n",
    "        self.valid_idx = np.argwhere(self.probas != 0)[:,0] #in this implementation aren't required\n",
    "        self.block = block #in this implementation aren't required\n",
    "\n",
    "    '''def block_invalid_boundaries(boundaries):\n",
    "        return boundaries[self.valid_idx]'''\n",
    "            \n",
    "    def set_alpha(self, alpha):\n",
    "        '''Function to change alpha which class is operating '''\n",
    "        self.alpha = alpha\n",
    "        #if self.block:\n",
    "        #    self.alpha = self.alpha[self.valid_idx]\n",
    "        #    norm = self.alpha.sum()\n",
    "        #    self.alpha = self.alpha / norm\n",
    "        \n",
    "    def mix_pdf(self, x):\n",
    "        '''probability density functions of all distributions which are present in the mixture''' \n",
    "        #if self.block:\n",
    "        #    return self.base_dist(x) * self.boundaries(x)[self.valid_idx] / self.probas[self.valid_idx]\n",
    "        return self.base_dist(x) * self.boundaries(x) / self.probas\n",
    "    \n",
    "    '''def mix_dist(self, x):\n",
    "        res = 0\n",
    "        for i, a in enumerate(self.alpha):\n",
    "            if i != len(self.alpha) - 1:\n",
    "                res += a*self.base_dist(x)*self.boundaries(i, x)/self.probas[i]\n",
    "            else:\n",
    "                res += a*self.base_dist(x)\n",
    "        return res'''\n",
    "\n",
    "    def mix_dist(self, x, block = True):\n",
    "        '''probability density function of the whole mixture'''\n",
    "        probas = self.probas\n",
    "        bounds = self.boundaries(x)\n",
    "        #if self.block:\n",
    "        #    probas = self.probas[self.valid_idx]\n",
    "        #    bounds = self.boundaries(x)[self.valid_idx]\n",
    "        p = self.base_dist(x)\n",
    "        coef = 1 / probas\n",
    "        coef = p * coef\n",
    "        bounds = bounds* coef\n",
    "        print(bounds)\n",
    "        res = self.alpha[:-1].dot(bounds)\n",
    "        res += self.alpha[-1] * p\n",
    "        return res\n",
    "\n",
    "    \n",
    "    def sample(self):\n",
    "        n = len(self.alpha)\n",
    "        choice = np.random.choice(n, p=self.alpha)\n",
    "        #if self.block:\n",
    "        #    choice = self.valid_idx[choice]\n",
    "        return self.gen_funcs(choice)\n",
    "        \n",
    "        "
   ]
  },
  {
   "cell_type": "code",
   "execution_count": 15,
   "metadata": {
    "collapsed": true
   },
   "outputs": [],
   "source": [
    "dist_func = lambda x: multivariate_normal.pdf(x, np.zeros((DIM_X)), np.identity(DIM_X))\n",
    "mixture = Mixture(dist_func, boundaries_wrap, probas, generate_wrap)"
   ]
  },
  {
   "cell_type": "markdown",
   "metadata": {},
   "source": [
    "### First optimization task\n",
    "\n",
    "$$\n",
    "\\text{Var } \\hat \\mu_{\\alpha} = \\frac 1n \\left(\\int \\frac{H_{1:J}(x) p(x)}{\\sum_{j=0}^J \\alpha_j H_j (x) P_j^{-1}} \\, dx  - \\mu^2\\right)\\longrightarrow \\min_{\\alpha}\n",
    "$$\n",
    "\n",
    "We are going to use stochastic gradient descent. The stochastic gradient of this task, having $X_i \\sim q_{\\alpha}(x)$ is $-\\dfrac{H_{1:J}(X_i) p^2(X_i) \\vec q (X_i)}{q_{\\alpha}^3(X_i)}$\n",
    "\n",
    "Estimation of the variance above:\n",
    "$$\n",
    "\\frac 1n \\sum_{i = 1}^n \\frac{H_{1:J}(x_i) p^2(x_i)}{q_{\\alpha} (x_i) q_{\\alpha'}(x_i)} \\longrightarrow \\min_{\\alpha}\n",
    "$$\n",
    "where $x_i \\sim q_{\\alpha'}$"
   ]
  },
  {
   "cell_type": "markdown",
   "metadata": {},
   "source": [
    "#### Owen's implementation described in https://arxiv.org/pdf/1411.3954.pdf"
   ]
  },
  {
   "cell_type": "code",
   "execution_count": 16,
   "metadata": {
    "collapsed": true
   },
   "outputs": [],
   "source": [
    "simul_num1 = 10**4\n",
    "simul_num2 = 10**5\n",
    "dim_alpha = NUM_B + 1\n",
    "dim_beta = NUM_B\n",
    "dim_gamma = NUM_B"
   ]
  },
  {
   "cell_type": "code",
   "execution_count": 17,
   "metadata": {
    "collapsed": true
   },
   "outputs": [],
   "source": [
    "# main function description which we want to minimize\n",
    "def calculate_coefs(mixture, simul_num = 10**4):\n",
    "    bound_num = len(mixture.alpha)\n",
    "    coefs_x = np.zeros((simul_num, bound_num))\n",
    "    coefs_y = np.zeros((simul_num))\n",
    "    coefs_z = np.zeros((simul_num))\n",
    "    alpha = mixture.alpha\n",
    "    for i in range(simul_num):\n",
    "        x = mixture.sample()\n",
    "        h = 0\n",
    "        if np.any(mixture.boundaries(x)):\n",
    "            h = 1\n",
    "        coefs_y[i] = h\n",
    "        coefs_x[i, :-1] = mixture.boundaries(x) / mixture.probas\n",
    "        coefs_x[i, -1] = 1\n",
    "        coefs_z[i] =  alpha.dot(coefs_x[i,:])\n",
    "    coefs = (coefs_x, coefs_y, coefs_z)\n",
    "    return coefs\n",
    "\n",
    "def func(coefs, alpha, beta = None, gamma = None, simul_num = 10**4, sample_num = 10**5):\n",
    "    bound_num = len(alpha)\n",
    "    if np.any(beta) == None:\n",
    "        beta = np.zeros((bound_num - 1))\n",
    "    if np.any(gamma) == None:\n",
    "        gamma = np.zeros((bound_num - 1))\n",
    "    x, y, z = coefs\n",
    "    alpha = alpha.reshape((-1, 1))\n",
    "    to_sum = x.dot(alpha)\n",
    "    to_sum = to_sum.ravel()\n",
    "    to_sum = np.divide(np.ones((to_sum.size,)), to_sum)\n",
    "    normalizer = y - x[:,:-1].dot(beta) + gamma.sum()\n",
    "    to_sum = to_sum * normalizer\n",
    "    to_sum = to_sum * (normalizer / z)\n",
    "    temp = (gamma - beta).sum()\n",
    "    return to_sum.sum() - 2*(y / z).sum()*temp + (sample_num -1)*(temp**2)*(simul_num) ### to check\n",
    "\n",
    "def grad_func(coefs, alpha, beta = None, gamma = None, simul_num = 10**4, sample_num = 10**5):\n",
    "    bound_num = len(alpha)\n",
    "    checker = np.any(beta) == None\n",
    "    if checker:\n",
    "        beta = np.zeros((bound_num - 1))\n",
    "        gamma = np.zeros((bound_num - 1))\n",
    "    x,y,z = coefs\n",
    "    alpha = alpha.reshape((-1, 1))\n",
    "    norm = y - x[:,:-1].dot(beta) + gamma.sum()\n",
    "    normalizer = norm / z\n",
    "    norm = normalizer * norm\n",
    "    res = x.dot(alpha)\n",
    "    #res = res **2\n",
    "    #print(len(res[res == np.inf]))\n",
    "    coef = - x / res\n",
    "    x = coef / res\n",
    "\n",
    "    grad_a = (x.T.dot(norm)).ravel()\n",
    "    if checker:\n",
    "        return grad_a\n",
    "    temp = (gamma - beta).sum()\n",
    "    mu = (y / z).sum()\n",
    "    grad_b = ((coef[:,:-1]).T.dot(normalizer)).ravel() + mu - (sample_num - 1) * temp*simul_num\n",
    "    grad_b = 2 * grad_b\n",
    "    grad_g = normalizer.dot(1 / res.ravel()) - mu + (sample_num - 1) * temp*simul_num\n",
    "    grad_g = 2* grad_g\n",
    "    grad_g = np.ones((bound_num - 1)) * grad_g\n",
    "    return  np.hstack((grad_a, grad_b, grad_g))\n",
    "\n",
    "def hess_func(coefs, alpha, beta = None, gamma = None, simul_num = 10**4, sample_num = 10**5):\n",
    "    bound_num = len(alpha)    \n",
    "    checker = np.any(beta) == None\n",
    "    if checker:\n",
    "        beta = np.zeros((bound_num - 1))\n",
    "        gamma = np.zeros((bound_num - 1))\n",
    "    x,y,z = coefs\n",
    "    y = y.reshape((-1,1))\n",
    "    z = z.reshape((-1,1))\n",
    "    norm = y - x[:,:-1].dot(beta.reshape((-1,1))) + gamma.sum()\n",
    "    normalizer = norm / z\n",
    "    norm = normalizer * norm\n",
    "    alpha = alpha.reshape((-1, 1))\n",
    "    res = x.dot(alpha)\n",
    "    coefs = x / res\n",
    "    hess_a = 2 * (coefs * norm).T.dot(coefs / res)\n",
    "    if checker:\n",
    "        return hess_a\n",
    "    hess_ab = 2 * (coefs * normalizer).T.dot(coefs[:, :-1] / res)\n",
    "    #hess_ag = np.zeros((len(gamma), 1))\n",
    "    hess_ag = -2 * (coefs * normalizer).T.dot(1 / res)\n",
    "    hess_ag = np.repeat(hess_ag, len(gamma), axis = 1)\n",
    "    hess_b = 2 * (coefs[:, :-1]).T.dot(x[:, :-1] / z) + 2 * (sample_num - 1)* simul_num\n",
    "    hess_bg = -2 * (coefs[:,:-1]).T.dot(1 / z) - 2 * (sample_num - 1) * simul_num\n",
    "    hess_bg = np.repeat(hess_bg, len(gamma), axis = 1)\n",
    "    hess_g = 2*((1 / res) / z).sum() + 2 * (sample_num - 1)* simul_num\n",
    "    hess_g = hess_g * np.ones((len(gamma), len(gamma)))\n",
    "    hess_a = np.hstack((hess_a, hess_ab, hess_ag))\n",
    "    hess_b = np.hstack((hess_ab.T, hess_b, hess_bg))\n",
    "    hess_g = np.hstack((hess_ag.T, hess_bg.T, hess_g))\n",
    "    return np.vstack((hess_a, hess_b, hess_g))"
   ]
  },
  {
   "cell_type": "code",
   "execution_count": 18,
   "metadata": {
    "collapsed": true
   },
   "outputs": [],
   "source": [
    "eta = 1e-2\n",
    "delta = (1 + eta - (NUM_B + 1)*eps) / (NUM_B + 2)\n",
    "zero_alpha = (eps + delta) * np.ones((NUM_B + 1)) # zero alpha for optimization\n",
    "sample_alpha = np.ones((NUM_B + 1)) / (NUM_B + 1) #alpha which will be used for the first simulation stage\n",
    "sample_alpha[np.argmax(sample_alpha)] += 1 - sample_alpha.sum()\n",
    "mixture.set_alpha(sample_alpha)\n",
    "coefs = calculate_coefs(mixture)"
   ]
  },
  {
   "cell_type": "code",
   "execution_count": 19,
   "metadata": {
    "collapsed": true
   },
   "outputs": [],
   "source": [
    "# addition of log barriers\n",
    "def log_barrier(bound_values, rho = 1):\n",
    "    bound_values = np.log(bound_values)\n",
    "    return - rho * np.sum(bound_values)\n",
    "\n",
    "def big_func(coefs, alpha, beta = None, gamma = None, simul_num = 10**4, sample_num = 10**5, rho = 1, eta = 0.01):\n",
    "    bound_values = alpha - eps\n",
    "    bound_values = np.hstack((bound_values, np.array(1 + eta - np.sum(alpha))))\n",
    "    res = func(coefs, alpha, beta, gamma, simul_num, sample_num) + log_barrier(bound_values, rho)\n",
    "    return res\n",
    "\n",
    "def big_grad(coefs, alpha, beta = None, gamma = None, simul_num = 10**4, sample_num = 10**5, rho = 1, eta = 0.01):\n",
    "    bound_values = alpha - eps\n",
    "    bound_values = 1.0 / bound_values\n",
    "    upper_bound = 1 + eta - np.sum(alpha)\n",
    "    upper_bound = 1.0 / upper_bound\n",
    "    barrier_part = (upper_bound - bound_values) * rho\n",
    "    gr = grad_func(coefs, alpha, beta, gamma, simul_num, sample_num)\n",
    "    if np.any(beta) == None:\n",
    "        return barrier_part + gr\n",
    "    else:\n",
    "        return np.hstack((barrier_part, np.zeros((gr.size - barrier_part.size)))) + gr\n",
    "\n",
    "def big_hess(coefs, alpha, beta = None, gamma = None, simul_num = 10**4, sample_num = 10**5, rho = 1, eta = 0.01):\n",
    "    bound_values = alpha - eps\n",
    "    bound_num = len(alpha)\n",
    "    bound_values = 1.0 / (bound_values)**2\n",
    "    upper_bound = 1 + eta - np.sum(alpha)\n",
    "    upper_bound = 1.0 / upper_bound ** 2\n",
    "    barrier_part = (np.diag(bound_values) + np.ones((alpha.size, alpha.size)) * upper_bound) * rho\n",
    "    he = hess_func(coefs, alpha, beta, gamma, simul_num, sample_num)\n",
    "    b_p = np.zeros(he.shape)\n",
    "    b_p[:bound_num, :bound_num] = barrier_part\n",
    "    return b_p + he"
   ]
  },
  {
   "cell_type": "code",
   "execution_count": 20,
   "metadata": {
    "collapsed": true
   },
   "outputs": [],
   "source": [
    "# search for the appropriate step size for the given direction\n",
    "def backtracking_line_search(direction, func, grad_func, dom_func, point, update, alpha = 0.3, beta = 0.8):\n",
    "    t = 1\n",
    "    x = point\n",
    "    f_x = func(x)\n",
    "    gr_x = grad_func(x)\n",
    "    while not dom_func(update(x,direction, t)):\n",
    "        #print(\"2. jkjdf\")\n",
    "        t = beta*t\n",
    "    while func(update(x, direction, t)) > f_x + alpha*t*(gr_x.dot(direction)):\n",
    "        #print(\"3. jdkfjldj\")\n",
    "        t = beta*t\n",
    "    return t"
   ]
  },
  {
   "cell_type": "code",
   "execution_count": 74,
   "metadata": {
    "collapsed": true
   },
   "outputs": [],
   "source": [
    "def update1(x, direction, t):\n",
    "    return x + t*direction.ravel()\n",
    "    \n",
    "### This function tends to stick in a cycle with some eta, to be checked later\n",
    "\n",
    "def damped_newton(func, grad_func, hess, dom_func, point, update, tolerance = 1e-4):\n",
    "    x = point\n",
    "    while True:\n",
    "        grad = grad_func(x).reshape((-1,1))\n",
    "        hess_inv = np.linalg.pinv(hess(x))\n",
    "        direction = - hess_inv.dot(grad)\n",
    "        decrement = grad.T.dot(hess_inv)\n",
    "        decrement = decrement.dot(grad)\n",
    "        #print(decrement)\n",
    "        if decrement**2 / 2 <= tolerance:\n",
    "            break\n",
    "        print(decrement**2/2)\n",
    "        t = backtracking_line_search(direction.ravel(), func, grad_func, dom_func, x, update=update)\n",
    "        x = update(x, direction.ravel(), t) \n",
    "        #x = tuple(x[i] + t*direction.ravel()[i*len(x[0]): ]) x + t* direction.ravel()\n",
    "    return x"
   ]
  },
  {
   "cell_type": "code",
   "execution_count": 22,
   "metadata": {
    "scrolled": true
   },
   "outputs": [
    {
     "name": "stdout",
     "output_type": "stream",
     "text": [
      "rho: 1\n",
      "[[ 62.76110973]]\n",
      "[[ 9.89890363]]\n",
      "[[ 0.36309992]]\n",
      "[[ 0.00063107]]\n",
      "rho: 0.5\n",
      "[[ 0.78759601]]\n",
      "[[ 0.00517167]]\n",
      "rho: 0.25\n",
      "[[ 0.55511009]]\n",
      "[[ 0.00477218]]\n",
      "rho: 0.125\n",
      "[[ 0.34807895]]\n",
      "[[ 0.00323376]]\n",
      "rho: 0.0625\n",
      "[[ 0.2044862]]\n",
      "[[ 0.00174154]]\n",
      "rho: 0.03125\n",
      "[[ 0.11484752]]\n",
      "[[ 0.00073145]]\n",
      "rho: 0.015625\n",
      "[[ 0.06244116]]\n",
      "[[ 0.00021427]]\n",
      "rho: 0.0078125\n",
      "[[ 0.03310663]]\n",
      "rho: 0.00390625\n",
      "[[ 0.03047393]]\n",
      "rho: 0.001953125\n",
      "[[ 0.01369975]]\n",
      "rho: 0.0009765625\n",
      "[[ 0.00277256]]\n",
      "rho: 0.00048828125\n",
      "[[ 0.00031701]]\n",
      "rho: 0.000244140625\n",
      "rho: 0.0001220703125\n",
      "[[ 0.00302303]]\n",
      "rho: 6.103515625e-05\n",
      "rho: 3.0517578125e-05\n",
      "rho: 1.52587890625e-05\n",
      "[[ 0.00026549]]\n",
      "rho: 7.62939453125e-06\n",
      "rho: 3.814697265625e-06\n",
      "rho: 1.9073486328125e-06\n",
      "rho: 9.5367431640625e-07\n",
      "rho: 4.76837158203125e-07\n"
     ]
    }
   ],
   "source": [
    "#eta = 1e-3\n",
    "tol_e = 1e-4\n",
    "rho = 1\n",
    "dom_func = lambda x: np.all(x >= eps) & (x.sum() < 1 + eta)\n",
    "params_to_opt = zero_alpha\n",
    "while True:\n",
    "    print('rho:', rho)\n",
    "    func_wrap = lambda x: big_func(coefs, x, rho = rho)\n",
    "    grad_wrap = lambda x: big_grad(coefs, x, rho = rho)\n",
    "    hess_wrap = lambda x: big_hess(coefs, x, rho = rho)\n",
    "    params_to_opt = damped_newton(func_wrap, grad_wrap, hess_wrap, dom_func, params_to_opt, update=update1)\n",
    "    if (NUM_B + 2) * rho < func(coefs, params_to_opt) * tol_e:\n",
    "        break\n",
    "    else: rho = rho / 2"
   ]
  },
  {
   "cell_type": "code",
   "execution_count": 23,
   "metadata": {
    "collapsed": true
   },
   "outputs": [],
   "source": [
    "def get_estimation(mixture, projector, alpha, beta = None, gamma = None, sample_num = 10**5):\n",
    "    bound_num = len(mixture.alpha)\n",
    "    if np.any(beta) == None:\n",
    "        beta = np.zeros((bound_num - 1))\n",
    "        gamma = np.zeros((bound_num - 1))\n",
    "    alpha = projector(alpha)\n",
    "    alpha[np.argmax(alpha)] += 1 - alpha.sum()\n",
    "    mixture.set_alpha(alpha)\n",
    "    x,y,z = calculate_coefs(mixture, sample_num)\n",
    "    nom = y - x[:, :-1].dot(beta) + gamma.sum()\n",
    "    denom = x.dot(alpha)\n",
    "    est = np.mean(nom / denom)\n",
    "    return est - (gamma - beta).sum()\n"
   ]
  },
  {
   "cell_type": "code",
   "execution_count": 24,
   "metadata": {},
   "outputs": [
    {
     "data": {
      "text/plain": [
       "0.01035304508895396"
      ]
     },
     "execution_count": 24,
     "metadata": {},
     "output_type": "execute_result"
    }
   ],
   "source": [
    "proj = SimplexProjector(eps)\n",
    "get_estimation(mixture, proj, params_to_opt)"
   ]
  },
  {
   "cell_type": "code",
   "execution_count": 25,
   "metadata": {},
   "outputs": [
    {
     "name": "stdout",
     "output_type": "stream",
     "text": [
      "upper bound of estimation 0.010396508968529443 \n",
      " lower bound of estimation 0.0012844157635156065\n"
     ]
    }
   ],
   "source": [
    "print('upper bound of estimation {0} \\n lower bound of estimation {1}'.format(probas.sum(), probas.max()))"
   ]
  },
  {
   "cell_type": "markdown",
   "metadata": {},
   "source": [
    "#### Stochastic gradient descent"
   ]
  },
  {
   "cell_type": "code",
   "execution_count": 26,
   "metadata": {
    "collapsed": true
   },
   "outputs": [],
   "source": [
    "def update2(x, direction):\n",
    "    sizes = tuple(len(x_i) for x_i in x)\n",
    "    start_idx = []\n",
    "    idx = 0\n",
    "    for i in range(len(x)):\n",
    "        start_idx.append(idx)\n",
    "        idx += sizes[i]\n",
    "    return [x[i] + direction[start_idx[i]: start_idx[i] + sizes[i]] for i in range(len(x))]\n",
    "\n",
    "#######################################################333\n",
    "#SHOULD BE FINISHED LATER\n",
    "#########################################################\n",
    "\n",
    "def sgd(objective, mixture, grad, zero_point, projector, C = 1, max_iter = 10**5, update = update2, momentum = None):\n",
    "    points = []\n",
    "    checker = momentum == None\n",
    "    cur_point = zero_point[:]\n",
    "    estim = []\n",
    "    points.append(cur_point)\n",
    "    cumsum = 0\n",
    "    for i in range(max_iter):\n",
    "        \n",
    "        #sample part\n",
    "        try:\n",
    "            mixture.set_alpha(cur_point[0])\n",
    "            cur_x = mixture.sample()\n",
    "        except:\n",
    "            cur_point[0][np.argmax(cur_point[0])] += 1 - np.sum(cur_point[0])\n",
    "            mixture.set_alpha(cur_point[0])\n",
    "            cur_x = mixture.sample()\n",
    "        x = cur_x\n",
    "        \n",
    "        # estimation part\n",
    "        if len(cur_point) > 1:\n",
    "            bias = (cur_point[2] - cur_point[1]).sum()\n",
    "        else:\n",
    "            bias = 0\n",
    "        \n",
    "        tmp = objective(x, cur_point)\n",
    "        \n",
    "        cumsum += tmp - bias\n",
    "        estim.append(cumsum / (i + 1))\n",
    "        \n",
    "        #gradient part\n",
    "        if (checker) | (i == 0):\n",
    "            gradient = grad(x, cur_point)\n",
    "        else:\n",
    "            direction = momentum * direction \n",
    "            gradient = grad(x, update(cur_point, direction))\n",
    "        \n",
    "        # step part\n",
    "        step_size = C/np.sqrt(i+1)\n",
    "        #step_size = C\n",
    "        if (checker) | (i == 0):\n",
    "            direction = -gradient * step_size\n",
    "        else:\n",
    "            direction -= gradient * step_size\n",
    "        \n",
    "        cur_point = update(cur_point, direction) ######################## check!!!bb\n",
    "        \n",
    "        #alert if some problems with alpha occurs\n",
    "        if np.any(np.isinf(cur_point[0])):\n",
    "            print('Iteration # {}: infinity trouble'.format(i + 1))\n",
    "            print(cur_point[0])\n",
    "            print(cur_point[1])\n",
    "            print(cur_point[2])\n",
    "        if np.any(np.isnan(cur_point[0])):\n",
    "            print('Iteration # {}: nan trouble'.format(i + 1))\n",
    "            \n",
    "        #projector part\n",
    "        cur_point[0] = projector(cur_point[0]) ################# necessary to check later\n",
    "    \n",
    "        points.append(cur_point)            \n",
    "        if (i + 1) % 1000 == 0:\n",
    "            print(\"Iteration #{}\".format(i + 1))\n",
    "    return np.array(estim), points"
   ]
  },
  {
   "cell_type": "code",
   "execution_count": 27,
   "metadata": {
    "collapsed": true
   },
   "outputs": [],
   "source": [
    "def obj1(x, mixture, alpha, beta = None, gamma = None):\n",
    "    bound_num = len(alpha)\n",
    "    if np.any(beta) == None:\n",
    "        beta = np.zeros((bound_num - 1))\n",
    "        gamma = np.zeros((bound_num - 1))\n",
    "    h = 0\n",
    "    bounds = mixture.boundaries(x)\n",
    "    if np.any(bounds):\n",
    "        h = 1\n",
    "    bounds = bounds / mixture.probas\n",
    "    nom = h - bounds.dot(beta) + gamma.sum()\n",
    "    denom = bounds.dot(alpha[:-1]) + alpha[-1]\n",
    "    return nom / denom\n",
    "\n",
    "def grad1(x, mixture, alpha, beta = None, gamma = None, sample_num = 10**5):\n",
    "    bound_num = len(alpha)\n",
    "    checker = np.any(beta) == None\n",
    "    if checker:\n",
    "        beta = np.zeros((bound_num - 1))\n",
    "        gamma = np.zeros((bound_num - 1))\n",
    "    h = 0\n",
    "    bounds = mixture.boundaries(x)\n",
    "    if np.any(bounds):\n",
    "        h = 1\n",
    "    bounds = bounds / mixture.probas\n",
    "    nom = h - bounds.dot(beta) + gamma.sum()\n",
    "    denom = bounds.dot(alpha[:-1]) + alpha[-1]\n",
    "    frac = nom / denom\n",
    "    grad_a = np.ones((bound_num))\n",
    "    grad_a = grad_a*((frac)**2)\n",
    "    grad_a[:-1] = grad_a[:-1] * bounds\n",
    "    grad_a = -grad_a / denom\n",
    "    if checker:\n",
    "        return grad_a\n",
    "    \n",
    "    if np.any(np.isinf(grad_a)):\n",
    "        print('infinity trouble with grad_a')\n",
    "    if np.any(np.isnan(grad_a)):\n",
    "        print('nan trouble with grad_a')\n",
    "\n",
    "    mu = h / denom\n",
    "    grad_b = frac * (bounds / denom)\n",
    "    grad_b -= mu\n",
    "    grad_b = grad_b * (-2) +  beta\n",
    "    if np.any(np.isinf(grad_b)):\n",
    "        print('infinity trouble with grad_b')\n",
    "    if np.any(np.isnan(grad_b)):\n",
    "        print('nan trouble with grad_b')\n",
    "        \n",
    "    grad_g = frac * (1 / denom) - mu \n",
    "    grad_g = grad_g * 2\n",
    "    grad_g = np.ones((bound_num - 1)) * grad_g +  gamma\n",
    "    if np.any(np.isinf(grad_g)):\n",
    "        print('infinity trouble with grad_g')\n",
    "    if np.any(np.isnan(grad_g)):\n",
    "        print('nan trouble with grad_g')\n",
    "    return np.hstack((grad_a, grad_b, grad_g))\n",
    "    "
   ]
  },
  {
   "cell_type": "code",
   "execution_count": 28,
   "metadata": {
    "collapsed": true
   },
   "outputs": [],
   "source": [
    "obj = lambda x, params: obj1(x, mixture, params[0])\n",
    "grad = lambda x, params: grad1(x, mixture, params[0])\n"
   ]
  },
  {
   "cell_type": "code",
   "execution_count": 29,
   "metadata": {
    "collapsed": true
   },
   "outputs": [],
   "source": [
    "zero_p = (1 / (NUM_B + 1)) * np.ones((NUM_B + 1))\n",
    "proj = SimplexProjector(epsilon = eps)"
   ]
  },
  {
   "cell_type": "code",
   "execution_count": 30,
   "metadata": {},
   "outputs": [],
   "source": [
    "zero_p = [zero_p]"
   ]
  },
  {
   "cell_type": "code",
   "execution_count": 31,
   "metadata": {
    "scrolled": true
   },
   "outputs": [
    {
     "name": "stdout",
     "output_type": "stream",
     "text": [
      "Iteration #1000\n",
      "Iteration #2000\n",
      "Iteration #3000\n",
      "Iteration #4000\n",
      "Iteration #5000\n",
      "Iteration #6000\n",
      "Iteration #7000\n",
      "Iteration #8000\n",
      "Iteration #9000\n",
      "Iteration #10000\n",
      "Iteration #11000\n",
      "Iteration #12000\n",
      "Iteration #13000\n",
      "Iteration #14000\n",
      "Iteration #15000\n",
      "Iteration #16000\n",
      "Iteration #17000\n",
      "Iteration #18000\n",
      "Iteration #19000\n",
      "Iteration #20000\n",
      "Iteration #21000\n",
      "Iteration #22000\n",
      "Iteration #23000\n",
      "Iteration #24000\n",
      "Iteration #25000\n",
      "Iteration #26000\n",
      "Iteration #27000\n",
      "Iteration #28000\n",
      "Iteration #29000\n",
      "Iteration #30000\n",
      "Iteration #31000\n",
      "Iteration #32000\n",
      "Iteration #33000\n",
      "Iteration #34000\n",
      "Iteration #35000\n",
      "Iteration #36000\n",
      "Iteration #37000\n",
      "Iteration #38000\n",
      "Iteration #39000\n",
      "Iteration #40000\n",
      "Iteration #41000\n",
      "Iteration #42000\n",
      "Iteration #43000\n",
      "Iteration #44000\n",
      "Iteration #45000\n",
      "Iteration #46000\n",
      "Iteration #47000\n",
      "Iteration #48000\n",
      "Iteration #49000\n",
      "Iteration #50000\n",
      "Iteration #51000\n",
      "Iteration #52000\n",
      "Iteration #53000\n",
      "Iteration #54000\n",
      "Iteration #55000\n",
      "Iteration #56000\n",
      "Iteration #57000\n",
      "Iteration #58000\n",
      "Iteration #59000\n",
      "Iteration #60000\n",
      "Iteration #61000\n",
      "Iteration #62000\n",
      "Iteration #63000\n",
      "Iteration #64000\n",
      "Iteration #65000\n",
      "Iteration #66000\n",
      "Iteration #67000\n",
      "Iteration #68000\n",
      "Iteration #69000\n",
      "Iteration #70000\n",
      "Iteration #71000\n",
      "Iteration #72000\n",
      "Iteration #73000\n",
      "Iteration #74000\n",
      "Iteration #75000\n",
      "Iteration #76000\n",
      "Iteration #77000\n",
      "Iteration #78000\n",
      "Iteration #79000\n",
      "Iteration #80000\n",
      "Iteration #81000\n",
      "Iteration #82000\n",
      "Iteration #83000\n",
      "Iteration #84000\n",
      "Iteration #85000\n",
      "Iteration #86000\n",
      "Iteration #87000\n",
      "Iteration #88000\n",
      "Iteration #89000\n",
      "Iteration #90000\n",
      "Iteration #91000\n",
      "Iteration #92000\n",
      "Iteration #93000\n",
      "Iteration #94000\n",
      "Iteration #95000\n",
      "Iteration #96000\n",
      "Iteration #97000\n",
      "Iteration #98000\n",
      "Iteration #99000\n",
      "Iteration #100000\n",
      "Iteration #101000\n",
      "Iteration #102000\n",
      "Iteration #103000\n",
      "Iteration #104000\n",
      "Iteration #105000\n",
      "Iteration #106000\n",
      "Iteration #107000\n",
      "Iteration #108000\n",
      "Iteration #109000\n",
      "Iteration #110000\n",
      "Iteration #111000\n",
      "Iteration #112000\n",
      "Iteration #113000\n",
      "Iteration #114000\n",
      "Iteration #115000\n",
      "Iteration #116000\n",
      "Iteration #117000\n",
      "Iteration #118000\n",
      "Iteration #119000\n",
      "Iteration #120000\n",
      "Iteration #121000\n",
      "Iteration #122000\n",
      "Iteration #123000\n",
      "Iteration #124000\n",
      "Iteration #125000\n",
      "Iteration #126000\n",
      "Iteration #127000\n",
      "Iteration #128000\n",
      "Iteration #129000\n",
      "Iteration #130000\n",
      "Iteration #131000\n",
      "Iteration #132000\n",
      "Iteration #133000\n",
      "Iteration #134000\n",
      "Iteration #135000\n",
      "Iteration #136000\n",
      "Iteration #137000\n",
      "Iteration #138000\n",
      "Iteration #139000\n",
      "Iteration #140000\n",
      "Iteration #141000\n",
      "Iteration #142000\n",
      "Iteration #143000\n",
      "Iteration #144000\n",
      "Iteration #145000\n",
      "Iteration #146000\n",
      "Iteration #147000\n",
      "Iteration #148000\n",
      "Iteration #149000\n",
      "Iteration #150000\n",
      "Iteration #151000\n",
      "Iteration #152000\n",
      "Iteration #153000\n",
      "Iteration #154000\n",
      "Iteration #155000\n",
      "Iteration #156000\n",
      "Iteration #157000\n",
      "Iteration #158000\n",
      "Iteration #159000\n",
      "Iteration #160000\n",
      "Iteration #161000\n",
      "Iteration #162000\n",
      "Iteration #163000\n",
      "Iteration #164000\n",
      "Iteration #165000\n",
      "Iteration #166000\n",
      "Iteration #167000\n",
      "Iteration #168000\n",
      "Iteration #169000\n",
      "Iteration #170000\n",
      "Iteration #171000\n",
      "Iteration #172000\n",
      "Iteration #173000\n",
      "Iteration #174000\n",
      "Iteration #175000\n",
      "Iteration #176000\n",
      "Iteration #177000\n",
      "Iteration #178000\n",
      "Iteration #179000\n",
      "Iteration #180000\n",
      "Iteration #181000\n",
      "Iteration #182000\n",
      "Iteration #183000\n",
      "Iteration #184000\n",
      "Iteration #185000\n",
      "Iteration #186000\n",
      "Iteration #187000\n",
      "Iteration #188000\n",
      "Iteration #189000\n",
      "Iteration #190000\n",
      "Iteration #191000\n",
      "Iteration #192000\n",
      "Iteration #193000\n",
      "Iteration #194000\n",
      "Iteration #195000\n",
      "Iteration #196000\n",
      "Iteration #197000\n",
      "Iteration #198000\n",
      "Iteration #199000\n",
      "Iteration #200000\n",
      "Iteration #201000\n",
      "Iteration #202000\n",
      "Iteration #203000\n",
      "Iteration #204000\n",
      "Iteration #205000\n",
      "Iteration #206000\n",
      "Iteration #207000\n",
      "Iteration #208000\n",
      "Iteration #209000\n",
      "Iteration #210000\n",
      "Iteration #211000\n",
      "Iteration #212000\n",
      "Iteration #213000\n",
      "Iteration #214000\n",
      "Iteration #215000\n",
      "Iteration #216000\n",
      "Iteration #217000\n",
      "Iteration #218000\n",
      "Iteration #219000\n",
      "Iteration #220000\n",
      "Iteration #221000\n",
      "Iteration #222000\n",
      "Iteration #223000\n",
      "Iteration #224000\n",
      "Iteration #225000\n",
      "Iteration #226000\n",
      "Iteration #227000\n",
      "Iteration #228000\n",
      "Iteration #229000\n",
      "Iteration #230000\n",
      "Iteration #231000\n",
      "Iteration #232000\n",
      "Iteration #233000\n",
      "Iteration #234000\n",
      "Iteration #235000\n",
      "Iteration #236000\n",
      "Iteration #237000\n",
      "Iteration #238000\n",
      "Iteration #239000\n",
      "Iteration #240000\n",
      "Iteration #241000\n",
      "Iteration #242000\n",
      "Iteration #243000\n",
      "Iteration #244000\n",
      "Iteration #245000\n",
      "Iteration #246000\n",
      "Iteration #247000\n",
      "Iteration #248000\n",
      "Iteration #249000\n",
      "Iteration #250000\n",
      "Iteration #251000\n",
      "Iteration #252000\n",
      "Iteration #253000\n",
      "Iteration #254000\n",
      "Iteration #255000\n",
      "Iteration #256000\n",
      "Iteration #257000\n",
      "Iteration #258000\n",
      "Iteration #259000\n",
      "Iteration #260000\n",
      "Iteration #261000\n",
      "Iteration #262000\n",
      "Iteration #263000\n",
      "Iteration #264000\n",
      "Iteration #265000\n",
      "Iteration #266000\n",
      "Iteration #267000\n",
      "Iteration #268000\n",
      "Iteration #269000\n",
      "Iteration #270000\n",
      "Iteration #271000\n",
      "Iteration #272000\n",
      "Iteration #273000\n",
      "Iteration #274000\n",
      "Iteration #275000\n",
      "Iteration #276000\n",
      "Iteration #277000\n",
      "Iteration #278000\n",
      "Iteration #279000\n",
      "Iteration #280000\n",
      "Iteration #281000\n",
      "Iteration #282000\n",
      "Iteration #283000\n",
      "Iteration #284000\n",
      "Iteration #285000\n",
      "Iteration #286000\n",
      "Iteration #287000\n",
      "Iteration #288000\n",
      "Iteration #289000\n",
      "Iteration #290000\n",
      "Iteration #291000\n",
      "Iteration #292000\n",
      "Iteration #293000\n",
      "Iteration #294000\n",
      "Iteration #295000\n",
      "Iteration #296000\n",
      "Iteration #297000\n",
      "Iteration #298000\n",
      "Iteration #299000\n",
      "Iteration #300000\n"
     ]
    }
   ],
   "source": [
    "est1, alphas = sgd(obj, mixture, grad, zero_p, proj, max_iter= 3*10**5)"
   ]
  },
  {
   "cell_type": "code",
   "execution_count": 32,
   "metadata": {},
   "outputs": [
    {
     "data": {
      "image/png": "[encoded data removed]",
      "text/plain": [
       "<matplotlib.figure.Figure at 0x25ee0a3a0f0>"
      ]
     },
     "metadata": {},
     "output_type": "display_data"
    }
   ],
   "source": [
    "plt.plot(est1[:])\n",
    "plt.grid()"
   ]
  },
  {
   "cell_type": "code",
   "execution_count": 33,
   "metadata": {},
   "outputs": [
    {
     "data": {
      "text/plain": [
       "0.010162005629176738"
      ]
     },
     "execution_count": 33,
     "metadata": {},
     "output_type": "execute_result"
    }
   ],
   "source": [
    "est1[-1]"
   ]
  },
  {
   "cell_type": "code",
   "execution_count": 48,
   "metadata": {},
   "outputs": [
    {
     "data": {
      "text/plain": [
       "129"
      ]
     },
     "execution_count": 48,
     "metadata": {},
     "output_type": "execute_result"
    }
   ],
   "source": [
    "np.argmax(alphas[-1])"
   ]
  },
  {
   "cell_type": "code",
   "execution_count": 49,
   "metadata": {},
   "outputs": [
    {
     "data": {
      "text/plain": [
       "array([188, 127, 154, 146, 183, 191,  84, 129,  93,  88], dtype=int64)"
      ]
     },
     "execution_count": 49,
     "metadata": {},
     "output_type": "execute_result"
    }
   ],
   "source": [
    "np.argsort(probas)[-10:]"
   ]
  },
  {
   "cell_type": "markdown",
   "metadata": {},
   "source": [
    "### Second optimization task"
   ]
  },
  {
   "cell_type": "markdown",
   "metadata": {},
   "source": [
    "#### Owen's realization"
   ]
  },
  {
   "cell_type": "code",
   "execution_count": 50,
   "metadata": {
    "collapsed": true
   },
   "outputs": [],
   "source": [
    "simul_num1 = 10**4\n",
    "simul_num2 = 10**5\n",
    "dim_alpha = NUM_B + 1\n",
    "dim_beta = NUM_B\n",
    "dim_gamma = NUM_B"
   ]
  },
  {
   "cell_type": "code",
   "execution_count": 51,
   "metadata": {
    "collapsed": true
   },
   "outputs": [],
   "source": [
    "eta = 1e-2\n",
    "delta = (1 + eta - (NUM_B + 1)*eps) / (NUM_B + 2)\n",
    "zero_alpha = (eps + delta) * np.ones((NUM_B + 1)) # zero alpha for optimization\n",
    "sample_alpha = np.ones((NUM_B + 1)) / (NUM_B + 1) #alpha which will be used for the first simulation stage\n",
    "sample_alpha[np.argmax(sample_alpha)] += 1 - sample_alpha.sum()\n",
    "mixture.set_alpha(sample_alpha)\n",
    "coefs = calculate_coefs(mixture)"
   ]
  },
  {
   "cell_type": "code",
   "execution_count": 75,
   "metadata": {
    "collapsed": true
   },
   "outputs": [],
   "source": [
    "def update1(x, direction, t):\n",
    "    sizes = tuple(len(x_i) for x_i in x)\n",
    "    start_idx = []\n",
    "    idx = 0\n",
    "    for i in range(len(x)):\n",
    "        start_idx.append(idx)\n",
    "        idx += sizes[i]\n",
    "    return [x[i] + t*direction[start_idx[i]: start_idx[i] + sizes[i]] for i in range(len(x))]"
   ]
  },
  {
   "cell_type": "code",
   "execution_count": 76,
   "metadata": {
    "scrolled": true
   },
   "outputs": [
    {
     "name": "stdout",
     "output_type": "stream",
     "text": [
      "rho: 1\n",
      "[[ 1293.37851547]]\n",
      "[[ 0.1369555]]\n",
      "rho: 0.5\n",
      "rho: 0.25\n",
      "rho: 0.125\n",
      "[[ 0.00011247]]\n",
      "rho: 0.0625\n",
      "rho: 0.03125\n",
      "rho: 0.015625\n",
      "[[ 0.0002085]]\n",
      "rho: 0.0078125\n",
      "rho: 0.00390625\n",
      "[[ 0.00018089]]\n",
      "rho: 0.001953125\n",
      "rho: 0.0009765625\n",
      "[[ 0.00013474]]\n",
      "rho: 0.00048828125\n",
      "rho: 0.000244140625\n",
      "rho: 0.0001220703125\n",
      "[[ 0.00010632]]\n",
      "rho: 6.103515625e-05\n",
      "rho: 3.0517578125e-05\n",
      "rho: 1.52587890625e-05\n",
      "rho: 7.62939453125e-06\n",
      "rho: 3.814697265625e-06\n",
      "rho: 1.9073486328125e-06\n",
      "rho: 9.5367431640625e-07\n",
      "[[ 0.0001022]]\n",
      "rho: 4.76837158203125e-07\n"
     ]
    }
   ],
   "source": [
    "#eta = 1e-3\n",
    "tol_e = 1e-4\n",
    "rho = 1\n",
    "zero_beta = np.zeros((NUM_B))\n",
    "zero_gamma = np.zeros((NUM_B))\n",
    "dom_func = lambda x: np.all(x[0] >= eps) & (x[0].sum() < 1 + eta)\n",
    "params_to_opt = (zero_alpha, zero_beta, zero_gamma)\n",
    "while True:\n",
    "    print('rho:', rho)\n",
    "    func_wrap = lambda x: big_func(coefs, x[0], x[1], x[2], rho = rho)\n",
    "    grad_wrap = lambda x: big_grad(coefs, x[0], x[1], x[2], rho = rho)\n",
    "    hess_wrap = lambda x: big_hess(coefs, x[0], x[1], x[2], rho = rho)\n",
    "    params_to_opt = damped_newton(func_wrap, grad_wrap, hess_wrap, dom_func, params_to_opt, update1)\n",
    "    if (NUM_B + 2) * rho < func(coefs, params_to_opt[0], params_to_opt[1], params_to_opt[2]) * tol_e:\n",
    "        break\n",
    "    else: rho = rho / 2"
   ]
  },
  {
   "cell_type": "code",
   "execution_count": 84,
   "metadata": {},
   "outputs": [
    {
     "data": {
      "text/plain": [
       "0.010350642880723925"
      ]
     },
     "execution_count": 84,
     "metadata": {},
     "output_type": "execute_result"
    }
   ],
   "source": [
    "proj = SimplexProjector(eps)\n",
    "get_estimation(mixture, proj, params_to_opt[0], params_to_opt[1], params_to_opt[2])"
   ]
  },
  {
   "cell_type": "code",
   "execution_count": 85,
   "metadata": {},
   "outputs": [
    {
     "name": "stdout",
     "output_type": "stream",
     "text": [
      "upper bound of estimation 0.010396508968529443 \n",
      " lower bound of estimation 0.0012844157635156065\n"
     ]
    }
   ],
   "source": [
    "print('upper bound of estimation {0} \\n lower bound of estimation {1}'.format(probas.sum(), probas.max()))"
   ]
  },
  {
   "cell_type": "markdown",
   "metadata": {},
   "source": [
    "#### Sgd for second optimization task"
   ]
  },
  {
   "cell_type": "code",
   "execution_count": 86,
   "metadata": {
    "collapsed": true
   },
   "outputs": [],
   "source": [
    "obj = lambda x, params: obj1(x, mixture, params[0], params[1], params[2])\n",
    "grad = lambda x, params: grad1(x, mixture, params[0], params[1], params[2])\n"
   ]
  },
  {
   "cell_type": "code",
   "execution_count": 87,
   "metadata": {
    "collapsed": true
   },
   "outputs": [],
   "source": [
    "zero_a = (1 / (NUM_B + 1)) * np.ones((NUM_B + 1))\n",
    "zero_b = np.zeros((NUM_B))\n",
    "zero_g = np.zeros((NUM_B))\n",
    "zero_p = (zero_a, zero_b, zero_g)\n",
    "proj = SimplexProjector(epsilon = eps)"
   ]
  },
  {
   "cell_type": "code",
   "execution_count": 88,
   "metadata": {
    "scrolled": true
   },
   "outputs": [
    {
     "name": "stdout",
     "output_type": "stream",
     "text": [
      "Iteration #1000\n",
      "Iteration #2000\n",
      "Iteration #3000\n",
      "Iteration #4000\n",
      "Iteration #5000\n",
      "Iteration #6000\n",
      "Iteration #7000\n",
      "Iteration #8000\n",
      "Iteration #9000\n",
      "Iteration #10000\n",
      "Iteration #11000\n",
      "Iteration #12000\n",
      "Iteration #13000\n",
      "Iteration #14000\n",
      "Iteration #15000\n",
      "Iteration #16000\n",
      "Iteration #17000\n",
      "Iteration #18000\n",
      "Iteration #19000\n",
      "Iteration #20000\n",
      "Iteration #21000\n",
      "Iteration #22000\n",
      "Iteration #23000\n",
      "Iteration #24000\n",
      "Iteration #25000\n",
      "Iteration #26000\n",
      "Iteration #27000\n",
      "Iteration #28000\n",
      "Iteration #29000\n",
      "Iteration #30000\n",
      "Iteration #31000\n",
      "Iteration #32000\n",
      "Iteration #33000\n",
      "Iteration #34000\n",
      "Iteration #35000\n",
      "Iteration #36000\n",
      "Iteration #37000\n",
      "Iteration #38000\n",
      "Iteration #39000\n",
      "Iteration #40000\n",
      "Iteration #41000\n",
      "Iteration #42000\n",
      "Iteration #43000\n",
      "Iteration #44000\n",
      "Iteration #45000\n",
      "Iteration #46000\n",
      "Iteration #47000\n",
      "Iteration #48000\n",
      "Iteration #49000\n",
      "Iteration #50000\n",
      "Iteration #51000\n",
      "Iteration #52000\n",
      "Iteration #53000\n",
      "Iteration #54000\n",
      "Iteration #55000\n",
      "Iteration #56000\n",
      "Iteration #57000\n",
      "Iteration #58000\n",
      "Iteration #59000\n",
      "Iteration #60000\n",
      "Iteration #61000\n",
      "Iteration #62000\n",
      "Iteration #63000\n",
      "Iteration #64000\n",
      "Iteration #65000\n",
      "Iteration #66000\n",
      "Iteration #67000\n",
      "Iteration #68000\n",
      "Iteration #69000\n",
      "Iteration #70000\n",
      "Iteration #71000\n",
      "Iteration #72000\n",
      "Iteration #73000\n",
      "Iteration #74000\n",
      "Iteration #75000\n",
      "Iteration #76000\n",
      "Iteration #77000\n",
      "Iteration #78000\n",
      "Iteration #79000\n",
      "Iteration #80000\n",
      "Iteration #81000\n",
      "Iteration #82000\n",
      "Iteration #83000\n",
      "Iteration #84000\n",
      "Iteration #85000\n",
      "Iteration #86000\n",
      "Iteration #87000\n",
      "Iteration #88000\n",
      "Iteration #89000\n",
      "Iteration #90000\n",
      "Iteration #91000\n",
      "Iteration #92000\n",
      "Iteration #93000\n",
      "Iteration #94000\n",
      "Iteration #95000\n",
      "Iteration #96000\n",
      "Iteration #97000\n",
      "Iteration #98000\n",
      "Iteration #99000\n",
      "Iteration #100000\n"
     ]
    }
   ],
   "source": [
    "est2, params2 = sgd(obj, mixture, grad, zero_p, proj, max_iter= 10**5, momentum=0.9)"
   ]
  },
  {
   "cell_type": "code",
   "execution_count": 89,
   "metadata": {},
   "outputs": [
    {
     "data": {
      "image/png": "[encoded data removed]",
      "text/plain": [
       "<matplotlib.figure.Figure at 0x25ee0a178d0>"
      ]
     },
     "metadata": {},
     "output_type": "display_data"
    }
   ],
   "source": [
    "plt.plot(est2[-10000:])\n",
    "plt.grid()"
   ]
  },
  {
   "cell_type": "code",
   "execution_count": 90,
   "metadata": {},
   "outputs": [
    {
     "data": {
      "text/plain": [
       "16202.889779438994"
      ]
     },
     "execution_count": 90,
     "metadata": {},
     "output_type": "execute_result"
    }
   ],
   "source": [
    "est2[-1]"
   ]
  },
  {
   "cell_type": "code",
   "execution_count": 91,
   "metadata": {},
   "outputs": [
    {
     "data": {
      "text/plain": [
       "[array([  5.10204082e-04,   5.10204082e-04,   5.10204082e-04,\n",
       "          5.10204082e-04,   5.10204082e-04,   5.10204082e-04,\n",
       "          5.10204082e-04,   5.10204082e-04,   5.10204082e-04,\n",
       "          5.10204082e-04,   5.10204082e-04,   5.10204082e-04,\n",
       "          5.10204082e-04,   5.10204082e-04,   5.10204082e-04,\n",
       "          5.10204082e-04,   5.10204082e-04,   5.10204082e-04,\n",
       "          5.10204082e-04,   5.10204082e-04,   5.10204082e-04,\n",
       "          5.10204082e-04,   5.10204082e-04,   5.10204082e-04,\n",
       "          5.10204082e-04,   5.10204082e-04,   5.10204082e-04,\n",
       "          5.10204082e-04,   5.10204082e-04,   5.10204082e-04,\n",
       "          5.10204082e-04,   5.10204082e-04,   5.10204082e-04,\n",
       "          5.10204082e-04,   5.10204082e-04,   5.10204082e-04,\n",
       "          5.10204082e-04,   5.10204082e-04,   5.10204082e-04,\n",
       "          5.10204082e-04,   5.10204082e-04,   5.10204082e-04,\n",
       "          5.10204082e-04,   5.10204082e-04,   5.10204082e-04,\n",
       "          5.10204082e-04,   5.10204082e-04,   5.10204082e-04,\n",
       "          5.10204082e-04,   5.10204082e-04,   5.10204082e-04,\n",
       "          5.10204082e-04,   5.10204082e-04,   5.10204082e-04,\n",
       "          5.10204082e-04,   5.10204082e-04,   5.10204082e-04,\n",
       "          5.10204082e-04,   5.10204082e-04,   5.10204082e-04,\n",
       "          5.10204082e-04,   5.10204082e-04,   5.10204082e-04,\n",
       "          5.10204082e-04,   5.10204082e-04,   5.10204082e-04,\n",
       "          5.10204082e-04,   5.10204082e-04,   5.10204082e-04,\n",
       "          5.10204082e-04,   5.10204082e-04,   5.10204082e-04,\n",
       "          5.10204082e-04,   5.10204082e-04,   5.10204082e-04,\n",
       "          5.10204082e-04,   5.10204082e-04,   5.10204082e-04,\n",
       "          5.10204082e-04,   5.10204082e-04,   5.10204082e-04,\n",
       "          5.10204082e-04,   5.10204082e-04,   5.10204082e-04,\n",
       "          5.10204082e-04,   5.10204082e-04,   5.10204082e-04,\n",
       "          5.10204082e-04,   5.10204082e-04,   5.10204082e-04,\n",
       "          5.10204082e-04,   5.10204082e-04,   5.10204082e-04,\n",
       "          5.10204082e-04,   5.10204082e-04,   5.10204082e-04,\n",
       "          5.10204082e-04,   5.10204082e-04,   5.10204082e-04,\n",
       "          5.10204082e-04,   5.10204082e-04,   5.10204082e-04,\n",
       "          5.10204082e-04,   5.10204082e-04,   5.10204082e-04,\n",
       "          5.10204082e-04,   5.10204082e-04,   5.10204082e-04,\n",
       "          5.10204082e-04,   5.10204082e-04,   5.10204082e-04,\n",
       "          5.10204082e-04,   5.10204082e-04,   5.10204082e-04,\n",
       "          5.10204082e-04,   5.10204082e-04,   5.10204082e-04,\n",
       "          5.10204082e-04,   5.10204082e-04,   5.10204082e-04,\n",
       "          5.10204082e-04,   5.10204082e-04,   5.10204082e-04,\n",
       "          5.10204082e-04,   5.10204082e-04,   5.10204082e-04,\n",
       "          5.10204082e-04,   5.10204082e-04,   5.10204082e-04,\n",
       "          5.10204082e-04,   5.10204082e-04,   5.10204082e-04,\n",
       "          5.10204082e-04,   5.10204082e-04,   5.10204082e-04,\n",
       "          5.10204082e-04,   5.10204082e-04,   5.10204082e-04,\n",
       "          5.10204082e-04,   5.10204082e-04,   5.10204082e-04,\n",
       "          5.10204082e-04,   5.10204082e-04,   5.10204082e-04,\n",
       "          5.10204082e-04,   5.10204082e-04,   5.10204082e-04,\n",
       "          5.10204082e-04,   5.10204082e-04,   5.10204082e-04,\n",
       "          5.10204082e-04,   5.10204082e-04,   5.10204082e-04,\n",
       "          5.10204082e-04,   5.10204082e-04,   5.10204082e-04,\n",
       "          5.10204082e-04,   5.10204082e-04,   5.10204082e-04,\n",
       "          5.10204082e-04,   5.10204082e-04,   5.10204082e-04,\n",
       "          5.10204082e-04,   5.10204082e-04,   5.10204082e-04,\n",
       "          5.10204082e-04,   5.10204082e-04,   5.10204082e-04,\n",
       "          5.10204082e-04,   5.10204082e-04,   5.10204082e-04,\n",
       "          5.10204082e-04,   5.10204082e-04,   5.10204082e-04,\n",
       "          5.10204082e-04,   5.10204082e-04,   5.10204082e-04,\n",
       "          5.10204082e-04,   5.10204082e-04,   5.10204082e-04,\n",
       "          5.10204082e-04,   5.10204082e-04,   5.10204082e-04,\n",
       "          5.10204082e-04,   5.10204082e-04,   5.10204082e-04,\n",
       "          5.10204082e-04,   5.10204082e-04,   5.10204082e-04,\n",
       "          5.10204082e-04,   9.00510204e-01,   5.10204082e-04,\n",
       "          5.10204082e-04,   5.10204082e-04,   5.10204082e-04,\n",
       "          5.10204082e-04]),\n",
       " array([ -2.48356647e-04,  -2.48356647e-04,  -2.48356647e-04,\n",
       "         -2.48355432e-04,  -4.57618027e-03,  -2.48356647e-04,\n",
       "         -2.48356647e-04,  -2.48356647e-04,  -2.48356647e-04,\n",
       "         -2.48356647e-04,  -2.48356647e-04,  -2.48356647e-04,\n",
       "         -2.48356647e-04,  -2.48639939e-04,  -2.48356647e-04,\n",
       "         -2.48357421e-04,  -2.48356647e-04,  -2.48356251e-04,\n",
       "         -2.48356647e-04,  -2.48356647e-04,  -2.48356647e-04,\n",
       "         -2.48356647e-04,  -2.48356647e-04,  -2.48355911e-04,\n",
       "         -2.48356647e-04,  -2.48740210e-04,  -2.48356647e-04,\n",
       "         -2.48356647e-04,  -2.48356647e-04,  -2.48482452e-04,\n",
       "         -2.48356647e-04,  -2.48356647e-04,  -2.48356647e-04,\n",
       "         -2.48356647e-04,  -2.48356647e-04,  -2.48356647e-04,\n",
       "         -2.48356647e-04,  -2.48356647e-04,  -2.48356647e-04,\n",
       "         -2.48356647e-04,  -2.48356647e-04,  -2.48356647e-04,\n",
       "         -2.48354856e-04,   1.26404580e+02,  -2.48356647e-04,\n",
       "         -2.48356647e-04,   5.82414012e+01,  -2.48356647e-04,\n",
       "         -2.48357346e-04,  -2.48636665e-04,  -2.48356647e-04,\n",
       "         -2.48356663e-04,  -2.48356647e-04,  -1.18878710e-02,\n",
       "         -2.48357491e-04,   2.38023667e+02,  -2.48356647e-04,\n",
       "         -2.48356647e-04,  -2.48356649e-04,  -2.48356647e-04,\n",
       "         -2.48356647e-04,  -2.48356647e-04,  -2.48356647e-04,\n",
       "         -2.48356647e-04,  -2.48356647e-04,  -2.48356647e-04,\n",
       "         -2.48356647e-04,  -2.48356665e-04,  -2.48356647e-04,\n",
       "         -2.48356647e-04,  -2.48356647e-04,  -2.48356647e-04,\n",
       "         -2.48356647e-04,  -2.48356647e-04,  -2.48356647e-04,\n",
       "         -2.48356647e-04,  -2.48356647e-04,   1.45912910e+02,\n",
       "         -2.48356647e-04,  -2.48356647e-04,  -2.48356647e-04,\n",
       "         -2.48356647e-04,  -2.48356647e-04,  -1.71826905e-02,\n",
       "         -2.48356647e-04,  -2.48356647e-04,  -2.48356647e-04,\n",
       "         -2.48356647e-04,  -2.48356647e-04,  -2.48356647e-04,\n",
       "         -2.48356647e-04,  -2.48356405e-04,  -2.48356647e-04,\n",
       "         -2.48356647e-04,  -2.48356647e-04,  -1.24955543e-02,\n",
       "         -2.48356647e-04,  -2.48356647e-04,  -2.48356647e-04,\n",
       "         -2.48356183e-04,  -2.48356647e-04,  -2.48356738e-04,\n",
       "         -2.48356647e-04,  -2.48356647e-04,  -2.48356647e-04,\n",
       "         -2.48356647e-04,  -2.48356647e-04,  -2.48356647e-04,\n",
       "         -2.48356647e-04,  -2.48356647e-04,  -2.48356647e-04,\n",
       "         -2.48356647e-04,   2.07171769e+02,  -2.48356647e-04,\n",
       "         -2.48356647e-04,  -2.48356647e-04,  -2.48356647e-04,\n",
       "         -2.93783498e-04,  -2.48357366e-04,  -2.48356647e-04,\n",
       "         -2.48356647e-04,  -2.48356647e-04,  -2.48356647e-04,\n",
       "         -2.48356647e-04,  -2.48356647e-04,   9.90158119e+00,\n",
       "         -2.48357285e-04,  -2.48356741e-04,  -2.48356647e-04,\n",
       "          8.97555147e-03,  -2.48356647e-04,  -2.48356647e-04,\n",
       "         -2.48380013e-04,  -2.48356647e-04,  -2.48356647e-04,\n",
       "         -2.48356661e-04,  -1.00602489e-02,  -2.48356647e-04,\n",
       "         -2.48356647e-04,  -2.48356647e-04,   2.21606493e+02,\n",
       "         -2.48356647e-04,  -2.48356647e-04,  -2.48356647e-04,\n",
       "         -2.48081398e-04,  -1.15201320e-02,  -2.48356647e-04,\n",
       "         -2.48356647e-04,  -2.48356647e-04,  -2.48356647e-04,\n",
       "         -2.48356647e-04,  -2.48356647e-04,  -2.48356647e-04,\n",
       "         -2.48356647e-04,  -2.48356647e-04,   2.21632539e+02,\n",
       "          1.73365266e+02,  -2.48356647e-04,  -2.48356647e-04,\n",
       "         -2.48356647e-04,  -2.48356647e-04,   2.32313069e+02,\n",
       "         -2.48356647e-04,  -2.48356647e-04,  -2.48356647e-04,\n",
       "         -2.48356647e-04,  -2.48356647e-04,  -2.48356647e-04,\n",
       "         -2.48356647e-04,  -2.48356647e-04,   4.06711816e+01,\n",
       "         -2.48356647e-04,  -2.48356647e-04,  -2.62317636e-04,\n",
       "         -2.58869367e-03,  -2.48356647e-04,  -2.48356647e-04,\n",
       "         -2.48356647e-04,  -2.48356647e-04,  -2.48356647e-04,\n",
       "         -2.48356647e-04,  -2.48356647e-04,  -2.48356647e-04,\n",
       "         -2.48356647e-04,   3.80391606e+01,  -2.48356657e-04,\n",
       "         -2.48357451e-04,   1.35429107e+02,  -2.48356647e-04,\n",
       "         -2.48356647e-04,  -5.92581788e+01,  -2.48356647e-04,\n",
       "          2.42750035e+02,  -2.48357235e-04,  -2.48355562e-04]),\n",
       " array([-0.00334903, -0.00334903, -0.00334903, -0.00334903, -0.00334903,\n",
       "        -0.00334903, -0.00334903, -0.00334903, -0.00334903, -0.00334903,\n",
       "        -0.00334903, -0.00334903, -0.00334903, -0.00334903, -0.00334903,\n",
       "        -0.00334903, -0.00334903, -0.00334903, -0.00334903, -0.00334903,\n",
       "        -0.00334903, -0.00334903, -0.00334903, -0.00334903, -0.00334903,\n",
       "        -0.00334903, -0.00334903, -0.00334903, -0.00334903, -0.00334903,\n",
       "        -0.00334903, -0.00334903, -0.00334903, -0.00334903, -0.00334903,\n",
       "        -0.00334903, -0.00334903, -0.00334903, -0.00334903, -0.00334903,\n",
       "        -0.00334903, -0.00334903, -0.00334903, -0.00334903, -0.00334903,\n",
       "        -0.00334903, -0.00334903, -0.00334903, -0.00334903, -0.00334903,\n",
       "        -0.00334903, -0.00334903, -0.00334903, -0.00334903, -0.00334903,\n",
       "        -0.00334903, -0.00334903, -0.00334903, -0.00334903, -0.00334903,\n",
       "        -0.00334903, -0.00334903, -0.00334903, -0.00334903, -0.00334903,\n",
       "        -0.00334903, -0.00334903, -0.00334903, -0.00334903, -0.00334903,\n",
       "        -0.00334903, -0.00334903, -0.00334903, -0.00334903, -0.00334903,\n",
       "        -0.00334903, -0.00334903, -0.00334903, -0.00334903, -0.00334903,\n",
       "        -0.00334903, -0.00334903, -0.00334903, -0.00334903, -0.00334903,\n",
       "        -0.00334903, -0.00334903, -0.00334903, -0.00334903, -0.00334903,\n",
       "        -0.00334903, -0.00334903, -0.00334903, -0.00334903, -0.00334903,\n",
       "        -0.00334903, -0.00334903, -0.00334903, -0.00334903, -0.00334903,\n",
       "        -0.00334903, -0.00334903, -0.00334903, -0.00334903, -0.00334903,\n",
       "        -0.00334903, -0.00334903, -0.00334903, -0.00334903, -0.00334903,\n",
       "        -0.00334903, -0.00334903, -0.00334903, -0.00334903, -0.00334903,\n",
       "        -0.00334903, -0.00334903, -0.00334903, -0.00334903, -0.00334903,\n",
       "        -0.00334903, -0.00334903, -0.00334903, -0.00334903, -0.00334903,\n",
       "        -0.00334903, -0.00334903, -0.00334903, -0.00334903, -0.00334903,\n",
       "        -0.00334903, -0.00334903, -0.00334903, -0.00334903, -0.00334903,\n",
       "        -0.00334903, -0.00334903, -0.00334903, -0.00334903, -0.00334903,\n",
       "        -0.00334903, -0.00334903, -0.00334903, -0.00334903, -0.00334903,\n",
       "        -0.00334903, -0.00334903, -0.00334903, -0.00334903, -0.00334903,\n",
       "        -0.00334903, -0.00334903, -0.00334903, -0.00334903, -0.00334903,\n",
       "        -0.00334903, -0.00334903, -0.00334903, -0.00334903, -0.00334903,\n",
       "        -0.00334903, -0.00334903, -0.00334903, -0.00334903, -0.00334903,\n",
       "        -0.00334903, -0.00334903, -0.00334903, -0.00334903, -0.00334903,\n",
       "        -0.00334903, -0.00334903, -0.00334903, -0.00334903, -0.00334903,\n",
       "        -0.00334903, -0.00334903, -0.00334903, -0.00334903, -0.00334903,\n",
       "        -0.00334903, -0.00334903, -0.00334903, -0.00334903, -0.00334903,\n",
       "        -0.00334903, -0.00334903, -0.00334903, -0.00334903, -0.00334903,\n",
       "        -0.00334903, -0.00334903, -0.00334903, -0.00334903, -0.00334903])]"
      ]
     },
     "execution_count": 91,
     "metadata": {},
     "output_type": "execute_result"
    }
   ],
   "source": [
    "params2[-1]"
   ]
  },
  {
   "cell_type": "code",
   "execution_count": 92,
   "metadata": {
    "collapsed": true
   },
   "outputs": [],
   "source": [
    "coefs = calculate_coefs(mixture)"
   ]
  },
  {
   "cell_type": "code",
   "execution_count": 93,
   "metadata": {},
   "outputs": [
    {
     "data": {
      "text/plain": [
       "9283217160061.373"
      ]
     },
     "execution_count": 93,
     "metadata": {},
     "output_type": "execute_result"
    }
   ],
   "source": [
    "func(coefs, params2[-1][0], params2[-1][1], params2[-1][2], sample_num=1)"
   ]
  },
  {
   "cell_type": "code",
   "execution_count": 94,
   "metadata": {},
   "outputs": [
    {
     "data": {
      "text/plain": [
       "24.813629599442049"
      ]
     },
     "execution_count": 94,
     "metadata": {},
     "output_type": "execute_result"
    }
   ],
   "source": [
    "func(coefs, params2[0][0], sample_num=1)"
   ]
  },
  {
   "cell_type": "code",
   "execution_count": 95,
   "metadata": {},
   "outputs": [
    {
     "data": {
      "text/plain": [
       "-72.196769596372405"
      ]
     },
     "execution_count": 95,
     "metadata": {},
     "output_type": "execute_result"
    }
   ],
   "source": [
    "proj = SimplexProjector(eps)\n",
    "get_estimation(mixture, proj, params2[-1][0], params2[-1][1], params2[-1][2])"
   ]
  },
  {
   "cell_type": "markdown",
   "metadata": {},
   "source": [
    "### ALORE"
   ]
  },
  {
   "cell_type": "code",
   "execution_count": 98,
   "metadata": {},
   "outputs": [
    {
     "data": {
      "text/plain": [
       "0.01036219829682803"
      ]
     },
     "execution_count": 98,
     "metadata": {},
     "output_type": "execute_result"
    }
   ],
   "source": [
    "alpha_alore = np.zeros((NUM_B + 1))\n",
    "alpha_alore[:-1] = probas / probas.sum()\n",
    "get_estimation(mixture, proj, alpha_alore)"
   ]
  },
  {
   "cell_type": "code",
   "execution_count": 99,
   "metadata": {},
   "outputs": [
    {
     "name": "stdout",
     "output_type": "stream",
     "text": [
      "upper bound of estimation 0.010396508968529443 \n",
      " lower bound of estimation 0.0012844157635156065\n"
     ]
    }
   ],
   "source": [
    "print('upper bound of estimation {0} \\n lower bound of estimation {1}'.format(probas.sum(), probas.max()))"
   ]
  },
  {
   "cell_type": "code",
   "execution_count": null,
   "metadata": {
    "collapsed": true
   },
   "outputs": [],
   "source": []
  }
 ],
 "metadata": {
  "kernelspec": {
   "display_name": "Python 3",
   "language": "python",
   "name": "python3"
  },
  "language_info": {
   "codemirror_mode": {
    "name": "ipython",
    "version": 3
   },
   "file_extension": ".py",
   "mimetype": "text/x-python",
   "name": "python",
   "nbconvert_exporter": "python",
   "pygments_lexer": "ipython3",
   "version": "3.6.3"
  }
 },
 "nbformat": 4,
 "nbformat_minor": 2
}
